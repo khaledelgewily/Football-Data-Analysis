{
 "cells": [
  {
   "cell_type": "markdown",
   "metadata": {},
   "source": [
    "\n",
    "\n",
    "# Project: Soccer Data Analysis\n",
    "\n",
    "## Table of Contents\n",
    "<ul>\n",
    "<li><a href=\"#intro\">Introduction</a></li>\n",
    "<li><a href=\"#wrangling\">Data Wrangling</a></li>\n",
    "<li><a href=\"#eda\">Exploratory Data Analysis</a></li>\n",
    "<li><a href=\"#conclusions\">Conclusions</a></li>\n",
    "</ul>"
   ]
  },
  {
   "cell_type": "markdown",
   "metadata": {},
   "source": [
    "<a id='intro'></a>\n",
    "## Introduction\n",
    "\n",
    "### Dataset Description \n",
    "\n",
    "Soccer dataset , it is a large well organized data set which contains data about soccer teams,players,matches from different European countries from 2008 to 2016.It consists of eight tables {Country , League , Match , Player,Player_Attributes,sqllite_sequence,Team,Team_Attributes}\n",
    "\n",
    "\n",
    "**Tables**:\n",
    "\n",
    "1-Country : id,name\n",
    "\n",
    "2-League : id,country_id (foreign_key from Country table ),name\n",
    "\n",
    "3-Match : id,country_id(foreign_key from Country table),league_id(foreign_key from League table),season,stage,date,match_api_id,home_team_api_id,away_team_api_id(foreign key from Team table), 11 columns for each team indicating players starting the match coordinates (But they are all null values) ,Betting odds\n",
    "\n",
    "4-Player : id,Player_api_id,player_name,Player_api_id,birthday,height,wight\n",
    "\n",
    "5-Player_Attributes : id,player_fifa_api_id,date,overall,potential,preferred_foot,attacking,defensive,crossing,heading,finishing,short_pass,volleys,dribbling,curve,free_kick,long_pass,..etc\n",
    "\n",
    "6-Team : id,team_api_id,team_fifa_api_id,team_long_name,team_short_name\n",
    "\n",
    "7-Team_Attributes :id,Team_fifa_api_id,team_api_id,date,buildUpPlaySpeed,..etc(other team evaluation metrics)\n",
    "\n",
    "**Relations**:\n",
    "\n",
    "-Each league is assocaited with a country via country_id.\n",
    "\n",
    "-Each match is associated with a league and a country via league_id,country_id.\n",
    "\n",
    "-Player attributes are associated with a certain player via palyer_api_id.\n",
    "\n",
    "-Team attributes are associated with a certain team via team_api_id.\n",
    "\n",
    "\n",
    "**Dataset**:\n",
    "\n",
    "**.** +25,000 matches.\n",
    "\n",
    "**.** +10,000 players.\n",
    "\n",
    "**.** 11 European Countries with their lead championship.\n",
    "\n",
    "**.** Seasons 2008 to 2016.\n",
    "\n",
    "**.** Players and Teams' attributes* sourced from EA Sports' FIFA video game series, including the weekly updates.\n",
    "\n",
    "**.** Team line up with squad formation (X, Y coordinates).\n",
    "\n",
    "**.** Betting odds from up to 10 providers.\n",
    "\n",
    "**.** Detailed match events (goal types, possession, corner, cross, fouls, cards etc…) for +10,000 matches.\n",
    "\n",
    "\n",
    "### Question(s) for Analysis\n",
    "\n",
    "**Some important questions could be:**\n",
    "\n",
    "-How many victories has a certian team achieved in a certain season?\n",
    "\n",
    "-Which team achieved the most victories?\n",
    "\n",
    "-What team attributes lead to the most victories?\n",
    "\n",
    "-Which league has the most goals?\n",
    "\n",
    "-What's the statistics of ages of players?\n",
    "\n",
    "-What are the players' average overall and which players have the best overall mean ?\n",
    "\n",
    "-What's the percentage of left-footed players ?"
   ]
  },
  {
   "cell_type": "code",
   "execution_count": 2,
   "metadata": {},
   "outputs": [],
   "source": [
    "#Used packages.\n",
    "import numpy as np\n",
    "import pandas as pd\n",
    "import matplotlib.pyplot as plt\n",
    "import seaborn as sns\n",
    "% matplotlib inline\n",
    "from datetime import date\n",
    "from datetime import datetime"
   ]
  },
  {
   "cell_type": "code",
   "execution_count": 3,
   "metadata": {},
   "outputs": [],
   "source": [
    "# Upgrade pandas to use dataframe.explode() function. \n",
    "#!pip install --upgrade pandas"
   ]
  },
  {
   "cell_type": "markdown",
   "metadata": {},
   "source": [
    "<a id='wrangling'></a>\n",
    "## Data Loading & Wrangling\n"
   ]
  },
  {
   "cell_type": "code",
   "execution_count": 4,
   "metadata": {},
   "outputs": [],
   "source": [
    "\n",
    "#DATA LOADING\n",
    "country=pd.read_csv(\"Database_Soccer/Country.csv\")\n",
    "\n",
    "league=pd.read_csv(\"Database_Soccer/League.csv\")\n",
    "\n",
    "match=pd.read_csv(\"Database_Soccer/Match.csv\")\n",
    "\n",
    "player=pd.read_csv(\"Database_Soccer/Player.csv\")\n",
    "\n",
    "player_attr=pd.read_csv(\"Database_Soccer/Player_Attributes.csv\")\n",
    "\n",
    "team=pd.read_csv(\"Database_Soccer/Team.csv\")\n",
    "\n",
    "team_attr=pd.read_csv(\"Database_Soccer/Team_Attributes.csv\")\n"
   ]
  },
  {
   "cell_type": "markdown",
   "metadata": {},
   "source": [
    "**Data Cleaning**\n",
    "\n",
    "Most of the tables don't have much null values except for \"matches\" table , The null values in all tables are going to be dealt with.Also some columns have irrelevant data. "
   ]
  },
  {
   "cell_type": "markdown",
   "metadata": {},
   "source": [
    "**Null values are a huge problem as they affect the results if they are not dealt with properly. Drop columns with more than 20% null values , because there are columns with a large percent of null values.** "
   ]
  },
  {
   "cell_type": "code",
   "execution_count": 5,
   "metadata": {},
   "outputs": [],
   "source": [
    "dataframes=np.array([country,league,match,player,player_attr,team,team_attr])\n",
    "for df in dataframes:\n",
    "    df.dropna(thresh = len(df) * 0.8, axis = 1, inplace = True)\n",
    "    "
   ]
  },
  {
   "cell_type": "markdown",
   "metadata": {},
   "source": [
    "**After dropping columns with a large percentage of nulls , the remaining nulls should also be dealt with , this will be done by replacing remaining null values with the mean in order to smoothen the values.**"
   ]
  },
  {
   "cell_type": "code",
   "execution_count": 6,
   "metadata": {},
   "outputs": [],
   "source": [
    "for df in dataframes:\n",
    "    df.fillna(df.mean(),inplace=True)"
   ]
  },
  {
   "cell_type": "markdown",
   "metadata": {},
   "source": [
    "**Preferred foot is not a numerical value so we can not fill the remaining null values with the average , however we will fill null preferred foot values with the value 'right' as it is the majority.**"
   ]
  },
  {
   "cell_type": "code",
   "execution_count": 7,
   "metadata": {},
   "outputs": [],
   "source": [
    "player_attr['preferred_foot'].fillna('right',inplace=True)"
   ]
  },
  {
   "cell_type": "markdown",
   "metadata": {},
   "source": [
    "**Drop the \"attacking_work_rate\" and the \"defensive_work_rate\" as it contains a large amount of null values as well as irrelevant values**"
   ]
  },
  {
   "cell_type": "code",
   "execution_count": 8,
   "metadata": {},
   "outputs": [],
   "source": [
    "player_attr.drop(['attacking_work_rate','defensive_work_rate'],inplace=True,axis=1)"
   ]
  },
  {
   "cell_type": "code",
   "execution_count": 9,
   "metadata": {},
   "outputs": [
    {
     "name": "stdout",
     "output_type": "stream",
     "text": [
      "0\n"
     ]
    }
   ],
   "source": [
    "#Checking for no null values \n",
    "def check_df(df):\n",
    "    return df.isna().sum().sum()\n",
    "sum_null=0\n",
    "for df in dataframes:\n",
    "    sum_null+=check_df(df)\n",
    "print(sum_null)    \n"
   ]
  },
  {
   "cell_type": "markdown",
   "metadata": {},
   "source": [
    "<a id='eda'></a>\n",
    "## Exploratory Data Analysis\n",
    "\n",
    "\n",
    "### Research Question 1 (How many victories has a certian team achieved in a certain season?)"
   ]
  },
  {
   "cell_type": "markdown",
   "metadata": {},
   "source": [
    "\n",
    "Create attribute winner based on number of goals."
   ]
  },
  {
   "cell_type": "code",
   "execution_count": 10,
   "metadata": {},
   "outputs": [],
   "source": [
    "match['winner']  = np.where(\n",
    "    match['home_team_goal'] < match['away_team_goal'], match['away_team_api_id'], np.where(\n",
    "    match['home_team_goal'] >  match['away_team_goal'], match['home_team_api_id'], -1 )) ;\n"
   ]
  },
  {
   "cell_type": "markdown",
   "metadata": {},
   "source": [
    "**Function to answer the first question , by taking the object team and season as arguments the function returns number of victories of this team in a specific season.**"
   ]
  },
  {
   "cell_type": "code",
   "execution_count": 11,
   "metadata": {},
   "outputs": [
    {
     "data": {
      "text/plain": [
       "16"
      ]
     },
     "execution_count": 11,
     "metadata": {},
     "output_type": "execute_result"
    }
   ],
   "source": [
    "def no_of_victories(object_team , object_season):\n",
    "    object_team =team[team['team_long_name']== object_team]['team_api_id']\n",
    "    object_team=int(object_team)\n",
    "    result=match[match.winner == object_team ]\n",
    "    result=result[result.season==object_season]\n",
    "    return result.shape[0]\n",
    "\n",
    "no_of_victories('Liverpool','2012/2013')\n"
   ]
  },
  {
   "cell_type": "markdown",
   "metadata": {},
   "source": [
    "### Research Question 2  (Which team achieved the most victories?)"
   ]
  },
  {
   "cell_type": "code",
   "execution_count": 12,
   "metadata": {},
   "outputs": [
    {
     "data": {
      "image/png": "[encoded data removed]",
      "text/plain": [
       "<matplotlib.figure.Figure at 0x7f29a8ab8a58>"
      ]
     },
     "metadata": {
      "needs_background": "light"
     },
     "output_type": "display_data"
    }
   ],
   "source": [
    "most_winners=match.groupby('winner')['winner'].count().sort_values(ascending=False)\n",
    "values=np.array(most_winners)[1:11]\n",
    "teams=np.array(most_winners.index)[1:11]\n",
    "\n",
    "names = np.empty(10, dtype='object')\n",
    "name=\"\"\n",
    "for i in range(0,10):\n",
    "    name=str(team[team['team_api_id']==teams[i]]['team_long_name'])\n",
    "    names[i]=name.split('\\n')\n",
    "    names[i]=names[i][0].split('  ')[2]\n",
    "    \n",
    "##creating the bar plot\n",
    "fig = plt.figure(figsize = (14, 5))\n",
    "plt.bar(names, values)\n",
    " \n",
    "plt.xlabel(\"Teams\")\n",
    "plt.ylabel(\"No. of Victories\")\n",
    "plt.title(\"Most Victories\")\n",
    "plt.show()"
   ]
  },
  {
   "cell_type": "markdown",
   "metadata": {},
   "source": [
    "**The above figure indicates the numbers of victories achieved by each team indicating FC Barcelona to be on the top.**"
   ]
  },
  {
   "cell_type": "markdown",
   "metadata": {},
   "source": [
    "### Research Question 3  (Which team attributes lead to the most victories?)"
   ]
  },
  {
   "cell_type": "markdown",
   "metadata": {},
   "source": [
    "**Some important merges**"
   ]
  },
  {
   "cell_type": "code",
   "execution_count": 13,
   "metadata": {},
   "outputs": [],
   "source": [
    "team_joined =team.merge(team_attr, left_on='team_api_id', right_on='team_api_id', how='inner')\n",
    "winner_attributes=team_joined.merge(match,left_on='team_api_id',right_on='winner',how='right')"
   ]
  },
  {
   "cell_type": "code",
   "execution_count": 14,
   "metadata": {},
   "outputs": [],
   "source": [
    "winner_attributes.dropna(inplace=True)\n",
    "winner_attributes.drop_duplicates(keep=False,inplace=True)\n",
    "winner_attributes.drop_duplicates(subset='match_api_id',inplace=True)"
   ]
  },
  {
   "cell_type": "markdown",
   "metadata": {},
   "source": [
    "**We will perform scatter plots between the difference in goals(which leads to victory) , some winner team attributes, in order to try to figure out the most important team attributes which lead to victories.**"
   ]
  },
  {
   "cell_type": "code",
   "execution_count": 65,
   "metadata": {},
   "outputs": [
    {
     "data": {
      "image/png": "[encoded data removed]",
      "text/plain": [
       "<matplotlib.figure.Figure at 0x7f29a8708438>"
      ]
     },
     "metadata": {
      "needs_background": "light"
     },
     "output_type": "display_data"
    },
    {
     "data": {
      "image/png": "[encoded data removed]",
      "text/plain": [
       "<matplotlib.figure.Figure at 0x7f29a8544400>"
      ]
     },
     "metadata": {
      "needs_background": "light"
     },
     "output_type": "display_data"
    },
    {
     "data": {
      "image/png": "[encoded data removed]",
      "text/plain": [
       "<matplotlib.figure.Figure at 0x7f2994b1d9e8>"
      ]
     },
     "metadata": {
      "needs_background": "light"
     },
     "output_type": "display_data"
    },
    {
     "data": {
      "image/png": "[encoded data removed]",
      "text/plain": [
       "<matplotlib.figure.Figure at 0x7f29a9090908>"
      ]
     },
     "metadata": {
      "needs_background": "light"
     },
     "output_type": "display_data"
    },
    {
     "data": {
      "image/png": "[encoded data removed]",
      "text/plain": [
       "<matplotlib.figure.Figure at 0x7f29a85bb2e8>"
      ]
     },
     "metadata": {
      "needs_background": "light"
     },
     "output_type": "display_data"
    },
    {
     "data": {
      "image/png": "[encoded data removed]",
      "text/plain": [
       "<matplotlib.figure.Figure at 0x7f29a85ae5f8>"
      ]
     },
     "metadata": {
      "needs_background": "light"
     },
     "output_type": "display_data"
    },
    {
     "data": {
      "image/png": "[encoded data removed]",
      "text/plain": [
       "<matplotlib.figure.Figure at 0x7f29a864a400>"
      ]
     },
     "metadata": {
      "needs_background": "light"
     },
     "output_type": "display_data"
    }
   ],
   "source": [
    "winner_attributes['goal_diff']=abs(winner_attributes['away_team_goal']-winner_attributes['home_team_goal'])\n",
    "important_attributes=winner_attributes.iloc[:, np.r_[-1, 9:28]]\n",
    "#numerics = ['int16', 'int32', 'int64', 'float16', 'float32', 'float64']\n",
    "#important_attributes=important_attributes.select_dtypes(include=numerics)\n",
    "#sns.pairplot(important_attributes);\n",
    "important_attributes.plot.scatter(x='goal_diff',y='buildUpPlayPassing');\n",
    "important_attributes.plot.scatter(x='goal_diff',y='chanceCreationPassing');\n",
    "important_attributes.plot.scatter(x='goal_diff',y='chanceCreationShooting');\n",
    "important_attributes.plot.scatter(x='goal_diff',y='chanceCreationCrossing');\n",
    "important_attributes.plot.scatter(x='goal_diff',y='defencePressure');\n",
    "important_attributes.plot.scatter(x='goal_diff',y='defenceAggression');\n",
    "important_attributes.plot.scatter(x='goal_diff',y='defenceTeamWidth');"
   ]
  },
  {
   "cell_type": "markdown",
   "metadata": {},
   "source": [
    "\n",
    "We can observe that 'chanceCreationShooting' is the most attribute leading to victory(goal difference)."
   ]
  },
  {
   "cell_type": "markdown",
   "metadata": {},
   "source": [
    "### Research Question 4 (Which league has the most goals?)"
   ]
  },
  {
   "cell_type": "code",
   "execution_count": 17,
   "metadata": {},
   "outputs": [],
   "source": [
    "match['goals']=match['home_team_goal']+match['away_team_goal']\n",
    "match_league =league.merge(match, left_on='id', right_on='league_id', how='left')\n",
    "\n"
   ]
  },
  {
   "cell_type": "code",
   "execution_count": 18,
   "metadata": {},
   "outputs": [],
   "source": [
    "leagues_goals=match_league.groupby('name').count().sort_values(by='goals',ascending=False)['goals']"
   ]
  },
  {
   "cell_type": "markdown",
   "metadata": {},
   "source": [
    "**The following bar chart shows the number of goals in each of the european leagues.**"
   ]
  },
  {
   "cell_type": "code",
   "execution_count": 19,
   "metadata": {},
   "outputs": [
    {
     "data": {
      "image/png": "[encoded data removed]",
      "text/plain": [
       "<matplotlib.figure.Figure at 0x7f29a8512080>"
      ]
     },
     "metadata": {
      "needs_background": "light"
     },
     "output_type": "display_data"
    }
   ],
   "source": [
    "##creating the bar plot\n",
    "fig = plt.figure(figsize = (24, 5))\n",
    "plt.bar(leagues_goals.index,leagues_goals,color='red')\n",
    " \n",
    "plt.xlabel(\"League\")\n",
    "plt.ylabel(\"No. of goals\")\n",
    "plt.title(\"Most Goals\")\n",
    "plt.show()"
   ]
  },
  {
   "cell_type": "markdown",
   "metadata": {},
   "source": [
    "### Research Question 5 (What's the statistics of ages of players?)\n"
   ]
  },
  {
   "cell_type": "markdown",
   "metadata": {},
   "source": [
    "**note: Age is calculated relative to year 2016**\n",
    "\n",
    "Statistics were done on players ages in the following cell."
   ]
  },
  {
   "cell_type": "code",
   "execution_count": 47,
   "metadata": {},
   "outputs": [
    {
     "data": {
      "text/plain": [
       "count    11060.000000\n",
       "mean        29.357143\n",
       "std          5.481362\n",
       "min         17.000000\n",
       "25%         25.000000\n",
       "50%         29.000000\n",
       "75%         33.000000\n",
       "max         49.000000\n",
       "Name: age, dtype: float64"
      ]
     },
     "execution_count": 47,
     "metadata": {},
     "output_type": "execute_result"
    }
   ],
   "source": [
    "result=[]\n",
    "for i in range(len(player)):\n",
    "    result.append(2016-int(player['birthday'][i].split('-')[0]))\n",
    "player['age']=result  \n",
    "player['age'].describe()\n"
   ]
  },
  {
   "cell_type": "markdown",
   "metadata": {},
   "source": [
    "### Research Question 6 (What are the players' average overall and which players have the best overall mean?)"
   ]
  },
  {
   "cell_type": "code",
   "execution_count": 49,
   "metadata": {},
   "outputs": [],
   "source": [
    "player_total =player.merge(player_attr, left_on='player_api_id', right_on='player_api_id', how='left')"
   ]
  },
  {
   "cell_type": "code",
   "execution_count": 50,
   "metadata": {},
   "outputs": [
    {
     "name": "stdout",
     "output_type": "stream",
     "text": [
      "player_name\n",
      "Lionel Messi          92.192308\n",
      "Cristiano Ronaldo     91.280000\n",
      "Franck Ribery         88.458333\n",
      "Andres Iniesta        88.320000\n",
      "Zlatan Ibrahimovic    88.285714\n",
      "Arjen Robben          87.840000\n",
      "Xavi Hernandez        87.636364\n",
      "Wayne Rooney          87.222222\n",
      "Iker Casillas         86.954545\n",
      "Philipp Lahm          86.733333\n",
      "Name: overall_rating, dtype: float64\n"
     ]
    }
   ],
   "source": [
    "overall_mean=player_total.groupby('player_name')['overall_rating'].mean().sort_values(ascending=False)\n",
    "print(overall_mean[:10])"
   ]
  },
  {
   "cell_type": "code",
   "execution_count": 51,
   "metadata": {},
   "outputs": [
    {
     "data": {
      "text/plain": [
       "count    10848.000000\n",
       "mean        66.802762\n",
       "std          6.204185\n",
       "min         43.000000\n",
       "25%         62.841103\n",
       "50%         66.715477\n",
       "75%         70.889881\n",
       "max         92.192308\n",
       "Name: overall_rating, dtype: float64"
      ]
     },
     "execution_count": 51,
     "metadata": {},
     "output_type": "execute_result"
    }
   ],
   "source": [
    "overall_mean.describe()"
   ]
  },
  {
   "cell_type": "markdown",
   "metadata": {},
   "source": [
    "**In the following histogram thee overall rating of players have been plotted indicating most players are in the range 60-70 , the distribution seems to be uniform.**"
   ]
  },
  {
   "cell_type": "code",
   "execution_count": 52,
   "metadata": {},
   "outputs": [
    {
     "data": {
      "image/png": "[encoded data removed]",
      "text/plain": [
       "<matplotlib.figure.Figure at 0x7f29a85da198>"
      ]
     },
     "metadata": {
      "needs_background": "light"
     },
     "output_type": "display_data"
    }
   ],
   "source": [
    "overall_mean.plot.hist(grid=True, bins=20, rwidth=0.9,\n",
    "                   color='#607c8e');"
   ]
  },
  {
   "cell_type": "markdown",
   "metadata": {},
   "source": [
    "### Research Question 7 (What is the percentage of left-footed  players?)"
   ]
  },
  {
   "cell_type": "markdown",
   "metadata": {},
   "source": [
    "Percentage of left-footed players is calculated by dividing the number of left-footed players by the total number of players "
   ]
  },
  {
   "cell_type": "code",
   "execution_count": 64,
   "metadata": {},
   "outputs": [
    {
     "name": "stdout",
     "output_type": "stream",
     "text": [
      "right    139245\n",
      "left      44733\n",
      "Name: preferred_foot, dtype: int64\n",
      "Left footed players represent about  0.243143201905 %\n"
     ]
    }
   ],
   "source": [
    "preferred_foot=player_total['preferred_foot'].value_counts()\n",
    "print(preferred_foot)\n",
    "print('Left footed players represent about ',preferred_foot[1]/(preferred_foot[0]+preferred_foot[1]),'%')"
   ]
  },
  {
   "cell_type": "markdown",
   "metadata": {},
   "source": [
    "<a id='conclusions'></a>\n",
    "## Conclusions\n",
    "\n",
    "**The results here showed the required answers for the questions we had by manipulating the needed data to help answering each question.**\n",
    "\n",
    "**We first have been able to specify number of victories of a specific team in a certain season**\n",
    "\n",
    "For example 'FC Barcelona'managed in'2009/2010' to win 31 matches.\n",
    "\n",
    "'Liverpool' managed in 2012/2013 to win 16 matches.\n",
    "\n",
    "**Secondly, We observed the top teams with the greatest number of victories in all seasons**\n",
    "\n",
    "It was observed that FC Barcelona came first , Real Madrid in the second position and Celtic Fc in the third.\n",
    "\n",
    "**Thirdly, which I find was the most challenging, scatter plots were plotted to indicate relations between different teams' attributes across the goal difference in each match**\n",
    "\n",
    "Actually the relations were not that clear maybe because the goal difference does not fully describe victory but I think it is still the most well describing way to describe victory(goals).\n",
    "\n",
    "**Fourthly**,An important question was which leagues had the most scored goals , It was found that the most scoring leagues were \n",
    "(English premiere league , France ligue1 , Italy Serie A ,Spain Liga)\n",
    "\n",
    "**Fifthly**, Statistics of players' ages were dont to show the minimum , maximum and average players' ages, It was observed that the youngest player was 17 years old , the oldest was 49(such a hero!) and the average was around 29 years which is considered the prime of most football players.\n",
    "\n",
    "**Sixthly**, A very important question was concerning the overall rating of players , it was observed that the highest overall rating mean was for the legend Lionel Messi followed by his all time rival the great CR7 which are both considered to be among the best players of all time , they had average overall rating of 92.2 ,91.3 respectively while the average players were about 68 overall rating.\n",
    "\n",
    "**Finally** An easy yet important question was the percentage of left-footed players , It is a shock that only 0.24% of players are left footed while about 12% of people are. However filling the null values in this column with 'right footed' value may have affected this ratio ."
   ]
  },
  {
   "cell_type": "markdown",
   "metadata": {},
   "source": [
    "## Limitations\n",
    "\n",
    "**Issues with the dataset**:\n",
    "-Some tables specially the match table has lots of null values .\n",
    "-Some relevant data should be added to the collection , ex: Team's coach \n",
    "**Analysis issues**:\n",
    "One main point was the analysis of teams victories , This analysis has been done in the scope of the report baased on the goal difference in each match , maybe further data would improve this field of analysis."
   ]
  },
  {
   "cell_type": "code",
   "execution_count": 66,
   "metadata": {},
   "outputs": [
    {
     "data": {
      "text/plain": [
       "0"
      ]
     },
     "execution_count": 66,
     "metadata": {},
     "output_type": "execute_result"
    }
   ],
   "source": [
    "from subprocess import call\n",
    "call(['python', '-m', 'nbconvert', 'Investigate_a_Dataset.ipynb'])"
   ]
  },
  {
   "cell_type": "code",
   "execution_count": null,
   "metadata": {},
   "outputs": [],
   "source": []
  }
 ],
 "metadata": {
  "kernelspec": {
   "display_name": "Python 3",
   "language": "python",
   "name": "python3"
  },
  "language_info": {
   "codemirror_mode": {
    "name": "ipython",
    "version": 3
   },
   "file_extension": ".py",
   "mimetype": "text/x-python",
   "name": "python",
   "nbconvert_exporter": "python",
   "pygments_lexer": "ipython3",
   "version": "3.6.3"
  }
 },
 "nbformat": 4,
 "nbformat_minor": 2
}
